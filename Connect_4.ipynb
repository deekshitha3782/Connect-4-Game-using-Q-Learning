{
  "nbformat": 4,
  "nbformat_minor": 0,
  "metadata": {
    "colab": {
      "provenance": []
    },
    "kernelspec": {
      "name": "python3",
      "display_name": "Python 3"
    },
    "language_info": {
      "name": "python"
    }
  },
  "cells": [
    {
      "cell_type": "markdown",
      "source": [
        "Part 1:\n",
        "Making the environment\n",
        "Making the connect 4 game"
      ],
      "metadata": {
        "id": "048kiJRJHCgY"
      }
    },
    {
      "cell_type": "code",
      "execution_count": 3,
      "metadata": {
        "id": "6u6Tb7Ce_Nkg"
      },
      "outputs": [],
      "source": [
        "import numpy as np\n",
        "import matplotlib.pyplot as plt\n",
        "%matplotlib inline"
      ]
    },
    {
      "cell_type": "code",
      "source": [
        "#Defining the rows and columns of Connect 4\n",
        "nbrows=6\n",
        "nbcolumns=7\n",
        "M=np.zeros((nbrows,nbcolumns))\n",
        "\n",
        "#Print the board\n",
        "print(\"M.shape=\",M.shape)\n",
        "print(\"M\\n\",M)\n",
        "\n",
        "#Plot the sticks\n",
        "fig=plt.figure(1)\n",
        "plt.matshow(M,cmap='hot')\n",
        "plt.grid()\n",
        "plt.title(\"The board\")"
      ],
      "metadata": {
        "colab": {
          "base_uri": "https://localhost:8080/",
          "height": 633
        },
        "id": "VB2qL7g8Bx2y",
        "outputId": "4c158ef0-edcf-42aa-dd12-63488b591a3b"
      },
      "execution_count": 11,
      "outputs": [
        {
          "output_type": "stream",
          "name": "stdout",
          "text": [
            "M.shape= (6, 7)\n",
            "M\n",
            " [[0. 0. 0. 0. 0. 0. 0.]\n",
            " [0. 0. 0. 0. 0. 0. 0.]\n",
            " [0. 0. 0. 0. 0. 0. 0.]\n",
            " [0. 0. 0. 0. 0. 0. 0.]\n",
            " [0. 0. 0. 0. 0. 0. 0.]\n",
            " [0. 0. 0. 0. 0. 0. 0.]]\n"
          ]
        },
        {
          "output_type": "execute_result",
          "data": {
            "text/plain": [
              "Text(0.5, 1.0, 'The board')"
            ]
          },
          "metadata": {},
          "execution_count": 11
        },
        {
          "output_type": "display_data",
          "data": {
            "text/plain": [
              "<Figure size 640x480 with 0 Axes>"
            ]
          },
          "metadata": {}
        },
        {
          "output_type": "display_data",
          "data": {
            "text/plain": [
              "<Figure size 560x480 with 1 Axes>"
            ],
            "image/png": "[encoded data removed]"
          },
          "metadata": {}
        }
      ]
    },
    {
      "cell_type": "code",
      "source": [
        "A = np.array([0,1,2,3,4,5,6])\n",
        "S =[]\n",
        "for i in range(0,nbrows*nbcolumns):\n",
        "    S.append(i)\n",
        "S=np.array(S)\n",
        "print(\"S.shape=\",S.shape)\n",
        "print(\"A.shape=\",A.shape)\n",
        "Q1=np.zeros((S.shape[0],A.shape[0]))\n",
        "Q2=np.zeros((S.shape[0],A.shape[0]))\n",
        "print(\"Q1.shape=\",Q1.shape)\n",
        "print(\"Q2.shape=\",Q2.shape)"
      ],
      "metadata": {
        "colab": {
          "base_uri": "https://localhost:8080/"
        },
        "id": "CffR6GWWCMCY",
        "outputId": "41975a9b-09ba-40d9-9625-1f76d02aa364"
      },
      "execution_count": 12,
      "outputs": [
        {
          "output_type": "stream",
          "name": "stdout",
          "text": [
            "S.shape= (42,)\n",
            "A.shape= (7,)\n",
            "Q1.shape= (42, 7)\n",
            "Q2.shape= (42, 7)\n"
          ]
        }
      ]
    },
    {
      "cell_type": "code",
      "source": [
        "#Creating board states\n",
        "def CreateBoardStates(nbrows,nbcolumns):\n",
        "\n",
        "    #boardstate is a list where all (x,y) are stored.\n",
        "    boardstate=[]\n",
        "    count=0\n",
        "    for y in range(nbrows):\n",
        "        for x in range(nbcolumns):\n",
        "            boardstate.append((x,y))\n",
        "    return boardstate\n",
        "\n",
        "boardstate=CreateBoardStates(nbrows,nbcolumns)\n",
        "print(\"len(boardstate)=\",len(boardstate))\n",
        "print(\"boardstate\\n\",boardstate[0:5])"
      ],
      "metadata": {
        "colab": {
          "base_uri": "https://localhost:8080/"
        },
        "id": "kMUBxehfCOG4",
        "outputId": "9956e21b-a224-4acb-f8cf-17cb77bf36a7"
      },
      "execution_count": 13,
      "outputs": [
        {
          "output_type": "stream",
          "name": "stdout",
          "text": [
            "len(boardstate)= 42\n",
            "boardstate\n",
            " [(0, 0), (1, 0), (2, 0), (3, 0), (4, 0)]\n"
          ]
        }
      ]
    },
    {
      "cell_type": "code",
      "source": [
        "#Function to get coordinates\n",
        "def getXYfromAgentState(agentstate,boardstate):\n",
        "    xy=boardstate[agentstate]\n",
        "    return xy\n",
        "\n",
        "\n",
        "#Printing a few examples of the coordinates\n",
        "print(\"agentstate=0 so xy=\",getXYfromAgentState(0,boardstate))\n",
        "print(\"agentstate=1 so xy=\",getXYfromAgentState(1,boardstate))\n",
        "print(\"agentstate=2 so xy=\",getXYfromAgentState(2,boardstate))\n",
        "print(\"agentstate=3 so xy=\",getXYfromAgentState(3,boardstate))\n",
        "print(\"agentstate=4 so xy=\",getXYfromAgentState(4,boardstate))\n",
        "print(\"agentstate=5 so xy=\",getXYfromAgentState(5,boardstate))\n",
        "print(\"agentstate=6 so xy=\",getXYfromAgentState(6,boardstate))\n",
        "print(\"agentstate=7 so xy=\",getXYfromAgentState(7,boardstate))\n",
        "print(\"agentstate=8 so xy=\",getXYfromAgentState(8,boardstate))\n",
        "print(\"agentstate=35 so xy=\",getXYfromAgentState(35,boardstate))\n",
        "print(\"agentstate=41 so xy=\",getXYfromAgentState(41,boardstate))"
      ],
      "metadata": {
        "colab": {
          "base_uri": "https://localhost:8080/"
        },
        "id": "3fSsfZUUDaal",
        "outputId": "4b0ae5b9-bdac-44a5-dfac-b34807764dbf"
      },
      "execution_count": 14,
      "outputs": [
        {
          "output_type": "stream",
          "name": "stdout",
          "text": [
            "agentstate=0 so xy= (0, 0)\n",
            "agentstate=1 so xy= (1, 0)\n",
            "agentstate=2 so xy= (2, 0)\n",
            "agentstate=3 so xy= (3, 0)\n",
            "agentstate=4 so xy= (4, 0)\n",
            "agentstate=5 so xy= (5, 0)\n",
            "agentstate=6 so xy= (6, 0)\n",
            "agentstate=7 so xy= (0, 1)\n",
            "agentstate=8 so xy= (1, 1)\n",
            "agentstate=35 so xy= (0, 5)\n",
            "agentstate=41 so xy= (6, 5)\n"
          ]
        }
      ]
    },
    {
      "cell_type": "code",
      "source": [
        "#Function to get the board state/location from x,y coordinates\n",
        "def getAgentStateFromXY(x,y,boardstate):\n",
        "    return boardstate.index((x,y))\n",
        "\n",
        "#few examples\n",
        "print(\"agentstate=\",getAgentStateFromXY(0,0,boardstate) ,\"so xy=\",(0,0))\n",
        "print(\"agentstate=\",getAgentStateFromXY(1,0,boardstate) ,\"so xy=\",(1,0))\n",
        "print(\"agentstate=\",getAgentStateFromXY(2,0,boardstate) ,\"so xy=\",(2,0))\n",
        "print(\"agentstate=\",getAgentStateFromXY(3,0,boardstate) ,\"so xy=\",(3,0))\n",
        "print(\"agentstate=\",getAgentStateFromXY(4,0,boardstate) ,\"so xy=\",(4,0))\n",
        "print(\"agentstate=\",getAgentStateFromXY(5,0,boardstate) ,\"so xy=\",(5,0))\n",
        "print(\"agentstate=\",getAgentStateFromXY(6,0,boardstate) ,\"so xy=\",(6,0))\n",
        "print(\"agentstate=\",getAgentStateFromXY(0,1,boardstate) ,\"so xy=\",(0,1))\n",
        "print(\"agentstate=\",getAgentStateFromXY(1,1,boardstate) ,\"so xy=\",(1,1))\n",
        "print(\"agentstate=\",getAgentStateFromXY(6,5,boardstate) ,\"so xy=\",(6,5))\n"
      ],
      "metadata": {
        "colab": {
          "base_uri": "https://localhost:8080/"
        },
        "id": "WmN8h69UDq5Y",
        "outputId": "cc275faa-62eb-4dc9-858d-0ffdcd42d896"
      },
      "execution_count": 15,
      "outputs": [
        {
          "output_type": "stream",
          "name": "stdout",
          "text": [
            "agentstate= 0 so xy= (0, 0)\n",
            "agentstate= 1 so xy= (1, 0)\n",
            "agentstate= 2 so xy= (2, 0)\n",
            "agentstate= 3 so xy= (3, 0)\n",
            "agentstate= 4 so xy= (4, 0)\n",
            "agentstate= 5 so xy= (5, 0)\n",
            "agentstate= 6 so xy= (6, 0)\n",
            "agentstate= 7 so xy= (0, 1)\n",
            "agentstate= 8 so xy= (1, 1)\n",
            "agentstate= 41 so xy= (6, 5)\n"
          ]
        }
      ]
    },
    {
      "cell_type": "code",
      "source": [
        "# Function the generates a new state from an action\n",
        "def ComputeNewState(action,M,boardstate):\n",
        "    y=0\n",
        "    x=action\n",
        "\n",
        "    if M[y,x]!=0:\n",
        "        return -1,x,y\n",
        "\n",
        "    while y<M.shape[0] and M[y,x]==0:\n",
        "        y=y+1\n",
        "\n",
        "\n",
        "    if y>0:\n",
        "        y=y-1\n",
        "\n",
        "    newagentstate=getAgentStateFromXY(x,y,boardstate)\n",
        "    return newagentstate,x,y"
      ],
      "metadata": {
        "id": "F3-JGsDWEkTS"
      },
      "execution_count": 16,
      "outputs": []
    },
    {
      "cell_type": "code",
      "source": [
        "M=np.zeros((nbrows,nbcolumns))\n",
        "print(M.shape)\n",
        "\n",
        "print(\"Let us place the tocken in the first column:\")\n",
        "newagentstate,x,y=ComputeNewState(0,M,boardstate)\n",
        "print(\"newagentstate,x,y\",newagentstate,x,y)\n",
        "M[y,x]=1\n",
        "\n",
        "\n",
        "\n",
        "fig=plt.figure(2)\n",
        "plt.matshow(M,cmap='gray')\n",
        "plt.grid()\n",
        "plt.title(\"The board\")\n",
        "\n",
        "print(\"Let us place the tocken in the first column:\")\n",
        "newagentstate,x,y=ComputeNewState(0,M,boardstate)\n",
        "print(\"newagentstate,x,y\",newagentstate,x,y)\n",
        "M[y,x]=1\n",
        "\n",
        "\n",
        "fig=plt.figure(2)\n",
        "plt.matshow(M,cmap='gray')\n",
        "plt.grid()\n",
        "plt.title(\"The board\")\n",
        "\n",
        "\n",
        "\n",
        "print(\"Let us place the tocken in the first column:\")\n",
        "newagentstate,x,y=ComputeNewState(0,M,boardstate)\n",
        "print(\"newagentstate,x,y\",newagentstate,x,y)\n",
        "M[y,x]=1\n",
        "\n",
        "\n",
        "fig=plt.figure(2)\n",
        "plt.matshow(M,cmap='gray')\n",
        "plt.grid()\n",
        "plt.title(\"The board\")\n",
        "\n",
        "\n",
        "\n",
        "print(\"Let us place the tocken in the first column:\")\n",
        "newagentstate,x,y=ComputeNewState(0,M,boardstate)\n",
        "print(\"newagentstate,x,y\",newagentstate,x,y)\n",
        "M[y,x]=1\n",
        "\n",
        "\n",
        "fig=plt.figure(2)\n",
        "plt.matshow(M,cmap='gray')\n",
        "plt.grid()\n",
        "plt.title(\"The board\")\n",
        "\n",
        "\n",
        "print(\"Let us place the tocken in the first column:\")\n",
        "newagentstate,x,y=ComputeNewState(0,M,boardstate)\n",
        "print(\"newagentstate,x,y\",newagentstate,x,y)\n",
        "M[y,x]=1\n",
        "\n",
        "\n",
        "fig=plt.figure(2)\n",
        "plt.matshow(M,cmap='gray')\n",
        "plt.grid()\n",
        "plt.title(\"The board\")\n",
        "\n",
        "\n",
        "print(\"Let us place the tocken in the first column:\")\n",
        "newagentstate,x,y=ComputeNewState(0,M,boardstate)\n",
        "print(\"newagentstate,x,y\",newagentstate,x,y)\n",
        "M[y,x]=1\n",
        "\n",
        "#Plot the sticks\n",
        "fig=plt.figure(2)\n",
        "plt.matshow(M,cmap='gray')\n",
        "plt.grid()\n",
        "plt.title(\"The board\")"
      ],
      "metadata": {
        "colab": {
          "base_uri": "https://localhost:8080/",
          "height": 1000
        },
        "id": "7bjAJ2t3Ex5h",
        "outputId": "87140f03-8937-4d98-91c8-9a900553d25d"
      },
      "execution_count": 21,
      "outputs": [
        {
          "output_type": "stream",
          "name": "stdout",
          "text": [
            "(6, 7)\n",
            "Let us place the tocken in the first column:\n",
            "newagentstate,x,y 35 0 5\n",
            "Let us place the tocken in the first column:\n",
            "newagentstate,x,y 28 0 4\n",
            "Let us place the tocken in the first column:\n",
            "newagentstate,x,y 21 0 3\n",
            "Let us place the tocken in the first column:\n",
            "newagentstate,x,y 14 0 2\n",
            "Let us place the tocken in the first column:\n",
            "newagentstate,x,y 7 0 1\n",
            "Let us place the tocken in the first column:\n",
            "newagentstate,x,y 0 0 0\n"
          ]
        },
        {
          "output_type": "execute_result",
          "data": {
            "text/plain": [
              "Text(0.5, 1.0, 'The board')"
            ]
          },
          "metadata": {},
          "execution_count": 21
        },
        {
          "output_type": "display_data",
          "data": {
            "text/plain": [
              "<Figure size 560x480 with 1 Axes>"
            ],
            "image/png": "[encoded data removed]"
          },
          "metadata": {}
        },
        {
          "output_type": "display_data",
          "data": {
            "text/plain": [
              "<Figure size 560x480 with 1 Axes>"
            ],
            "image/png": "[encoded data removed]"
          },
          "metadata": {}
        },
        {
          "output_type": "display_data",
          "data": {
            "text/plain": [
              "<Figure size 560x480 with 1 Axes>"
            ],
            "image/png": "[encoded data removed]"
          },
          "metadata": {}
        },
        {
          "output_type": "display_data",
          "data": {
            "text/plain": [
              "<Figure size 560x480 with 1 Axes>"
            ],
            "image/png": "[encoded data removed]"
          },
          "metadata": {}
        },
        {
          "output_type": "display_data",
          "data": {
            "text/plain": [
              "<Figure size 560x480 with 1 Axes>"
            ],
            "image/png": "[encoded data removed]"
          },
          "metadata": {}
        },
        {
          "output_type": "display_data",
          "data": {
            "text/plain": [
              "<Figure size 640x480 with 0 Axes>"
            ]
          },
          "metadata": {}
        },
        {
          "output_type": "display_data",
          "data": {
            "text/plain": [
              "<Figure size 560x480 with 1 Axes>"
            ],
            "image/png": "[encoded data removed]"
          },
          "metadata": {}
        }
      ]
    },
    {
      "cell_type": "code",
      "source": [
        "#Functions that check for winning and losing the game\n",
        "def Checkforoneplayer(M,idplayer):\n",
        "    COLUMN_COUNT=M.shape[1]\n",
        "    ROW_COUNT=M.shape[0]\n",
        "\n",
        "    # Check horizontal locations for win\n",
        "    for c in range(COLUMN_COUNT-3):\n",
        "        for r in range(ROW_COUNT):\n",
        "            if M[r][c] == idplayer and M[r][c+1] == idplayer and M[r][c+2] == idplayer and M[r][c+3] == idplayer:\n",
        "                return True\n",
        "\n",
        "    # Check vertical locations for win\n",
        "    for c in range(COLUMN_COUNT):\n",
        "        for r in range(ROW_COUNT-3):\n",
        "            if M[r][c] == idplayer and M[r+1][c] == idplayer and M[r+2][c] == idplayer and M[r+3][c] == idplayer:\n",
        "                return True\n",
        "\n",
        "    # Check positively sloped diaganols\n",
        "    for c in range(COLUMN_COUNT-3):\n",
        "        for r in range(ROW_COUNT-3):\n",
        "            if M[r][c] == idplayer and M[r+1][c+1] == idplayer and M[r+2][c+2] == idplayer and M[r+3][c+3] == idplayer:\n",
        "                return True\n",
        "\n",
        "    # Check negatively sloped diaganols\n",
        "    for c in range(COLUMN_COUNT-3):\n",
        "        for r in range(3, ROW_COUNT):\n",
        "            if M[r][c] == idplayer and M[r-1][c+1] == idplayer and M[r-2][c+2] == idplayer and M[r-3][c+3] == idplayer:\n",
        "                return True\n",
        "\n",
        "\n",
        "    return False\n",
        "\n",
        "def CheckIfWinningGame(M,idplayer):\n",
        "\n",
        "    winner=False\n",
        "    #Checking for player one\n",
        "    winnerid=Checkforoneplayer(M,idplayer)\n",
        "\n",
        "    return winnerid"
      ],
      "metadata": {
        "id": "1JSvuDAsFnpG"
      },
      "execution_count": 22,
      "outputs": []
    },
    {
      "cell_type": "code",
      "source": [
        "#Checking if the function is working correctly\n",
        "M=np.zeros((nbrows,nbcolumns))\n",
        "\n",
        "M[0,1]=1\n",
        "M[1,0]=0\n",
        "M[2,0]=0\n",
        "M[2,3]=1\n",
        "M[1,2]=1\n",
        "M[3,0]=0\n",
        "M[3,4]=1\n",
        "print(M)\n",
        "print(\"And player one wins=\",CheckIfWinningGame(M,1))\n",
        "print(\"And player two wins=\",CheckIfWinningGame(M,2))"
      ],
      "metadata": {
        "colab": {
          "base_uri": "https://localhost:8080/"
        },
        "id": "FWgqRdkDFuxG",
        "outputId": "94495df5-a26c-4bae-9e03-d7e3b6be62f4"
      },
      "execution_count": 23,
      "outputs": [
        {
          "output_type": "stream",
          "name": "stdout",
          "text": [
            "[[0. 1. 0. 0. 0. 0. 0.]\n",
            " [0. 0. 1. 0. 0. 0. 0.]\n",
            " [0. 0. 0. 1. 0. 0. 0.]\n",
            " [0. 0. 0. 0. 1. 0. 0.]\n",
            " [0. 0. 0. 0. 0. 0. 0.]\n",
            " [0. 0. 0. 0. 0. 0. 0.]]\n",
            "And player one wins= True\n",
            "And player two wins= False\n"
          ]
        }
      ]
    },
    {
      "cell_type": "code",
      "source": [
        "#The function allows to take an action in the game\n",
        "def step(action,agentstate,M,playerid,boardstate):\n",
        "    # Let's take action\n",
        "    done=False\n",
        "    reward=0\n",
        "    newagentstate,xnew,ynew=ComputeNewState(action,M,boardstate)\n",
        "\n",
        "    #We check if we could move or not to a new state\n",
        "    #is there any room for a token\n",
        "    if newagentstate==-1:\n",
        "        done=True\n",
        "        reward=-1\n",
        "        return agentstate,reward,done\n",
        "\n",
        "    #we place the token to the new empty slot\n",
        "    M[ynew,xnew]=playerid\n",
        "\n",
        "    win=False\n",
        "    win=CheckIfWinningGame(M,playerid)\n",
        "\n",
        "    if win==True:\n",
        "        reward=1\n",
        "        done=True\n",
        "\n",
        "\n",
        "\n",
        "    return newagentstate,reward,done"
      ],
      "metadata": {
        "id": "UsnPo0JsF6eD"
      },
      "execution_count": 25,
      "outputs": []
    },
    {
      "cell_type": "code",
      "source": [
        "M=np.zeros((nbrows,nbcolumns))\n",
        "print(step(0,0,M,1,boardstate) )\n",
        "print(M)\n",
        "print(step(0,35,M,1,boardstate) )\n",
        "print(M)"
      ],
      "metadata": {
        "colab": {
          "base_uri": "https://localhost:8080/"
        },
        "id": "OwHD2qwjGUPf",
        "outputId": "ccbe981e-ad6d-48c0-da92-a30db07f0415"
      },
      "execution_count": 26,
      "outputs": [
        {
          "output_type": "stream",
          "name": "stdout",
          "text": [
            "(35, 0, False)\n",
            "[[0. 0. 0. 0. 0. 0. 0.]\n",
            " [0. 0. 0. 0. 0. 0. 0.]\n",
            " [0. 0. 0. 0. 0. 0. 0.]\n",
            " [0. 0. 0. 0. 0. 0. 0.]\n",
            " [0. 0. 0. 0. 0. 0. 0.]\n",
            " [1. 0. 0. 0. 0. 0. 0.]]\n",
            "(28, 0, False)\n",
            "[[0. 0. 0. 0. 0. 0. 0.]\n",
            " [0. 0. 0. 0. 0. 0. 0.]\n",
            " [0. 0. 0. 0. 0. 0. 0.]\n",
            " [0. 0. 0. 0. 0. 0. 0.]\n",
            " [1. 0. 0. 0. 0. 0. 0.]\n",
            " [1. 0. 0. 0. 0. 0. 0.]]\n"
          ]
        }
      ]
    },
    {
      "cell_type": "code",
      "source": [
        "#Using random function to play the game\n",
        "M=np.zeros((nbrows,nbcolumns))\n",
        "\n",
        "fig = plt.figure() # just for display\n",
        "\n",
        "state=0 #initial state of the agent\n",
        "done=False\n",
        "listimages=[] # just for display : store images\n",
        "stepcounter=0\n",
        "idplayer=1\n",
        "while done != True: # Move until we reach the end of the game\n",
        "    action = np.random.choice(A) # Choose a random action\n",
        "    newtstate,reward,end=step(action,state,M,idplayer,boardstate) # Move according to the move\n",
        "    state=newtstate # update state\n",
        "    done=end # update are we done or not ?\n",
        "    stepcounter=stepcounter+1\n",
        "    print(action,state,newtstate,end) # print\n",
        "    im = plt.imshow(M, animated=True,cmap='gray') # display board\n",
        "    plt.grid()\n",
        "    listimages.append([im]) # display maze and agent\n",
        "    idplayer=idplayer+1\n",
        "    if idplayer==3:\n",
        "        idplayer=1"
      ],
      "metadata": {
        "colab": {
          "base_uri": "https://localhost:8080/",
          "height": 777
        },
        "id": "8K5pGWlyGgN-",
        "outputId": "84f474aa-ae27-4444-9126-efd8316a5f48"
      },
      "execution_count": 28,
      "outputs": [
        {
          "output_type": "stream",
          "name": "stdout",
          "text": [
            "2 37 37 False\n",
            "2 30 30 False\n",
            "1 36 36 False\n",
            "4 39 39 False\n",
            "6 41 41 False\n",
            "2 23 23 False\n",
            "4 32 32 False\n",
            "4 25 25 False\n",
            "0 35 35 False\n",
            "6 34 34 False\n",
            "5 40 40 False\n",
            "3 38 38 False\n",
            "2 16 16 False\n",
            "5 33 33 False\n",
            "3 31 31 False\n",
            "3 24 24 False\n",
            "6 27 27 False\n",
            "3 17 17 False\n",
            "4 18 18 False\n",
            "5 26 26 True\n"
          ]
        },
        {
          "output_type": "display_data",
          "data": {
            "text/plain": [
              "<Figure size 640x480 with 1 Axes>"
            ],
            "image/png": "[encoded data removed]"
          },
          "metadata": {}
        }
      ]
    },
    {
      "cell_type": "code",
      "source": [
        "from matplotlib import animation, rc\n",
        "from IPython.display import HTML\n",
        "\n",
        "ani = animation.ArtistAnimation(fig, listimages, interval=2000, blit=True,\n",
        "                                repeat_delay=100)\n",
        "\n",
        "\n",
        "ani.save('RandomConnect4.mp4')\n",
        "\n",
        "plt.show()\n",
        "HTML(ani.to_html5_video())"
      ],
      "metadata": {
        "colab": {
          "base_uri": "https://localhost:8080/",
          "height": 501
        },
        "id": "kEL6eaecGytR",
        "outputId": "5ecacd78-80a1-4ba7-f1b1-96a8c07641e4"
      },
      "execution_count": 29,
      "outputs": [
        {
          "output_type": "execute_result",
          "data": {
            "text/plain": [
              "<IPython.core.display.HTML object>"
            ],
            "text/html": [
              "<video width=\"640\" height=\"480\" controls autoplay loop>\n",
              "  <source type=\"video/mp4\" src=\"data:video/mp4;base64,AAAAIGZ0eXBNNFYgAAACAE00ViBpc29taXNvMmF2YzEAAAAIZnJlZQAAFNltZGF0AAACrQYF//+p\n",
              "3EXpvebZSLeWLNgg2SPu73gyNjQgLSBjb3JlIDE2MyByMzA2MCA1ZGI2YWE2IC0gSC4yNjQvTVBF\n",
              "Ry00IEFWQyBjb2RlYyAtIENvcHlsZWZ0IDIwMDMtMjAyMSAtIGh0dHA6Ly93d3cudmlkZW9sYW4u\n",
              "b3JnL3gyNjQuaHRtbCAtIG9wdGlvbnM6IGNhYmFjPTEgcmVmPTMgZGVibG9jaz0xOjA6MCBhbmFs\n",
              "eXNlPTB4MzoweDExMyBtZT1oZXggc3VibWU9NyBwc3k9MSBwc3lfcmQ9MS4wMDowLjAwIG1peGVk\n",
              "X3JlZj0xIG1lX3JhbmdlPTE2IGNocm9tYV9tZT0xIHRyZWxsaXM9MSA4eDhkY3Q9MSBjcW09MCBk\n",
              "ZWFkem9uZT0yMSwxMSBmYXN0X3Bza2lwPTEgY2hyb21hX3FwX29mZnNldD0tMiB0aHJlYWRzPTMg\n",
              "bG9va2FoZWFkX3RocmVhZHM9MSBzbGljZWRfdGhyZWFkcz0wIG5yPTAgZGVjaW1hdGU9MSBpbnRl\n",
              "cmxhY2VkPTAgYmx1cmF5X2NvbXBhdD0wIGNvbnN0cmFpbmVkX2ludHJhPTAgYmZyYW1lcz0zIGJf\n",
              "cHlyYW1pZD0yIGJfYWRhcHQ9MSBiX2JpYXM9MCBkaXJlY3Q9MSB3ZWlnaHRiPTEgb3Blbl9nb3A9\n",
              "MCB3ZWlnaHRwPTIga2V5aW50PTI1MCBrZXlpbnRfbWluPTEgc2NlbmVjdXQ9NDAgaW50cmFfcmVm\n",
              "cmVzaD0wIHJjX2xvb2thaGVhZD00MCByYz1jcmYgbWJ0cmVlPTEgY3JmPTIzLjAgcWNvbXA9MC42\n",
              "MCBxcG1pbj0wIHFwbWF4PTY5IHFwc3RlcD00IGlwX3JhdGlvPTEuNDAgYXE9MToxLjAwAIAAAAix\n",
              "ZYiEABf//vfUt8yy7VNvtguo96KeJl9DdSUBm5bE7TqAAAADAAADAAAevBc4Al+JCvOvAAADAMqA\n",
              "F+q//wpjj4sDKHM6ePwY1SAwbTW/vllocqdkEwi+OALtcuv8ywWlE5I+nZUdHN7om9lrX/P2istU\n",
              "AepzSmJlC3Obt2vhv/aByOsV+OWhAAV1OMt0qurPghPZoY1V8CanIvsexBzc800bJ4JIepNfmriq\n",
              "TgyZgfkSFV6VwBj4/fWjsnZg792geA4nS4iLo3HSLjF//Kk8MTGbL7Dt+Z+HB//9HzKakxAopZO1\n",
              "ue3Pd3MlZk/A5tkibrhQReS2XdV/iPTr+eYSyJCuZIhaLu1Njsw3mhp5qGBKNRz3kV6+1LUa4mRU\n",
              "ks0bK/EDEJQpvHJi9D5QyFsU4p2sYbw3HOJea29h+YQ8wzD6upyMgZI8FQ6vAfWE/m7TkRfxjVSj\n",
              "Ti8Lajpk9AFAJFr0Zp3fMI66infWK8vOqtewk6SVrVPXb7vMh+LBgtKDlu/5JPkLyYkpoKE5qb2a\n",
              "WMV7VjJ+W7CyS+0IyFOebuvsZu6xCg7BdcGJPOnwh/ecBSJzJcicp/lo5f+02rGPN6DypTgXhfsQ\n",
              "qjQsbpFe/DyY/harhyAr7c0WruobQQ1+Yl92ssdp9SHMs53Q1yQBsjrF9AypzzFutwE7z/5m7hca\n",
              "B5Zw7qKfbuUI0wQPIdvZXBUappzVgx7Pztg6kB99i+ii5k2e2QqYTQ78pq7FfGS1WKOhr9cH/lWq\n",
              "oFFLE26RVYHN0ujfr88MDr7tb1358JUp7UWkZ849278jI3DMoRcpzODZDQgZtCDqmcgSlJblqnzy\n",
              "lrVkfTjqXl3bIcOustVp5YJZGGxncjGx6PWVoJ7wU4lTVv2DsMh4EMs3ZT1eNUtCKGitYn9hEPGO\n",
              "Pk7y3JwJVhheh0y3k7SSliQ4+AIZwPDCcI0yBRI9483fS89b/snjqnnHP7Yn6KFLSFEN9Uq83uP6\n",
              "adQTuHjmRyCxcKTJlRQ2qTb79x93NxwqF33nfSFaA+y6F9CHvJLOj6GkYrTIACcwW699xgJQ2Lhu\n",
              "pcPQ1LBTnghf689eGRtTaUYsa3ompcps2O+G3o1h5IjLjk3K8FF8ijGR/I8Hm2QxhOTC8KTZKjII\n",
              "Go2yslOCKZ/dyretnOneI0WcdqDEa4cy8ZK89oo69nx9hGwdQO37yT0BZn7R4FGh3pFcuGM6s9+s\n",
              "F/+kESpM1bqsI4U2GDKcacK+3GubzWftjg/NliVsmqTIg7upVcDHJibwH6zXE4789ovY4T0Tdtps\n",
              "V4s6age2YMvxYdQtUWw3q1SjVPsJfeJLrdMd1RbACMO2rpVZlgRcXWiNzz90H7mixxeiS3TEIYYo\n",
              "qnbsHzRj9AZISXQCaxW5dxPZ/rIlYdDGCqunjIU7cdoowylNifmU3np6CtrPA32YYpTKPMWOIOfg\n",
              "ZujFqRoYgZJo17Wj53dn5ml7/8KNREEMrMmVhXP26XPQX/q0wnrO/VvbCfWjFCBHnZqhKifT/boZ\n",
              "6YVvYw11/yDZVyCKf6zYOp7CgRjxl+QrztQdDjpNucZ8iSn19gkoTrYNCGtfEtv+CqQ4NPASRNKE\n",
              "rftpPQYIuF3mAcIBsr6N09edd2EpyotTvLER4y0Rga1WreZeBI7Fa6t6p3ABjugll2Dt/jOk070v\n",
              "5jRCl3YcSh1ZZ+JIamZde9MdCECLhsImF6v1G5BxoAzovZtpnEW82hMcMVSpIrjKKZj3hESdZJao\n",
              "NduY4X+6WTG+ez02mLFM9Vjfsq3Qrl9lCHeg/eN2bYRuzczYhYX+VLnbJlRNWNeiN4FkdnhKIhOE\n",
              "pxXu5/qdH94xumoiUsVYChUiiRD9IDXI+ojn9dq7TD9Iz62T7HxpuLXKl/0KacMPfYiiEgBSBUoU\n",
              "yEy4suduLFuYrojHHnWXIW658K4iW3/noo6hF2uZG9REYjcdHHyEM+SOxVQGSSYcVhJikpDOYkVq\n",
              "FSaeanRgnzpYchdbLwQCzLuhFioaUDEJgSRZ8kjMs0Ea/MYAZCw8lXi5ouXxEHvMusJMCMCmIYw/\n",
              "VPw2E3hxB0o/HLA/e8BIW/oNl58smqLUOc/qYpnoQ3cZhPkdxBepGeolrpAEJi2Qk3Uq32nAFYHp\n",
              "mdGhidLT/q0crsCyLW+1ACZ7hORAefXN//dI7XpodMcIOFrWzDYwEpR07x/7x4TaggivKv78Wcrm\n",
              "7agrAsbHwxSVMFKdoCEcVFPLRMJt1H4S7Rdk5VeBUPHQo58MMeWF3rAwO32cvLqekbnQ/ye0N+VK\n",
              "D8JFDvzf56eB8pX6CzqYkbSXqQhc+2p8x3H27X6zmBN8log5SVnxv1/ueEr8UjPIiPA05wmBXqaz\n",
              "CR52On+cRNsi+qNX/6VceOV5d7LbGG8S19ygHP/P9XtoSvziBqIHMydRwMstkiocswxJxz3ZA9eD\n",
              "P4KmAqdzEfLTRXlzqjiSSTBoJjyly5AdOsKBixGoy/R2t7k64XlHSDyWGQR62e7vt1olFJSCOoCt\n",
              "MhyeK5UoQDaJD/C3eu7AttO8ze49/KpozuRjf3KwmFnnVbQnBD+9qdwV+Y3G9orw4XkqceqDRiED\n",
              "Izon7kadLNA7V/DhSnLlWWA8BkDHIc1ckVbIn95H2HzeX8tQjndF/e33WnHz8vnAi93qFVjor8h6\n",
              "5vFrnRC7KH8C+G8PF3bckvgQOnwluvswmNePpjigRAr9nO3YH6ymKbxWOMBWa+cH77StlrfdpJwH\n",
              "uWPPV4n4eYdFGtPYBEZQkWH0bfo8mIQ344uJ9bON7BMUrIjr6lKerRof+eKhZGda95tPtW4o34Pv\n",
              "YCQ43qQGLBqgKdpIjv+G7zYIrJeavTR40ynoBJLLsECKGvzjnPFdi9WSHTG4wrE9GqkTT/0ha6ul\n",
              "DJ6HovuDykOAjC/+CnKb1wnZLmIegu2y5SIYayh1Zk3+r2LCvtckicTDnvcyNjQIAAcBuWGNeFAA\n",
              "HzEAAAC9QZohbEF//tqmWAAHShXeoJNTLJv31xLuoADiVWvgfUyeMusP6mKEPCmUJ7hnCAa2ToRs\n",
              "sszKNOWxX1ShbapLXAfmQsH2AxrtvN+Ys33HqhRvJTxeVIyvL/yLoYdwVZTxR4Oyuztuyg1m9cpA\n",
              "ALMAAyxmgUWaAK7ExJILdVnJPIzAIcpfmm+iMwo6vYF593O1sItN3NDdhpxk4sDK9otybmlfgmp1\n",
              "h7/roKAGjefmXZPL4Y0MnD7lKRjqTqgQAAABWkGaRTwhkymEF//+2qZYAAADACYPbq5HHS28yMci\n",
              "mJqHXp8ug1e4w23nD4FwIPNJ/mfHK/8BPYACxKfJzFMKZyzH2tj7H771JJLlP76TSCWXu/bPXWVe\n",
              "25Mt5KsBxQ00c4vEf3icNCkJvbLZ9fytQcKQvXyAWNvfHkfFE5cgT+inw6fmtrCxjbe5MhTgVoXW\n",
              "ADKlEevyUkxTpw/OW73Vk5c8A7QVSuvG11aqrtlzT9TwZSagMobVYE2tLPT4w1shf1yPigNm+HkL\n",
              "BRNSljNuxV5btpkjZ3Mb53yY2oe8+AnP8iIVZafgPwbTthOnuo09XggqaRuSuxS1zAafFxLBDe/c\n",
              "UDDFO12zpvLstprpFrNXykDaklztBBJpOkpabxgqEABetx24MoNJU2dQ2XMh+GlJ1SsX9jxpHDH0\n",
              "ST5IE+CxUB9/jYpxVOaoJeqeAZUweGZ3nwGL7KFcx00AAABHQZ5jalPBbwAAAwAAEEW1HmPjPadq\n",
              "/eVdyzkemHheIuD5oAdLgEma8V6nwHrZj4J4ABOvFNYiRIUHuwAzKX7HeGN5vpEgO4AAAAAsAZ6C\n",
              "dEFfAAADAAADAAWE1bwBdRF7dL0fYRNMqGNzIJdhz5cIroYsvKufBG8AAAArAZ6EakFfAAADAAAZ\n",
              "q2ipiYTzpPyO8OlbwYAEQ468YmnbK/fok6OEkUe/jQAAATBBmolJqEFomUwIL//+2qZYAAADAB6t\n",
              "7iWpOQT/EALZ0xeZqtfZFiieLzxuC2Nu6x9ZfYrPHsgZ2rn7CzP6AzIgj+1KsaAeBM9PEfKMfxl2\n",
              "+VoL6mTbwQR6LVcqBYvqPG+Quo//A0JolNLmobAmNqO6m9y/8zpuSYRU4YL+syxMh8t4rD0903XX\n",
              "NSdyGeYAUBQ8lnKsz7IXs7d2CDKRIBy/BADKAeeBXL1CClRTMEWUV0WVt+8SRGEFzZJ41Dp5YOEs\n",
              "Phjjz1P3joY/t+6PYm8e9nF+TUimOz1mXJci5wJ5OuELGE/7dzylLjRi+wV4rIqWlf1EXhF644o8\n",
              "NpxE/VsRywlAAABKWvxX9HV/MEnqpGYObi8xxPLvnksQWOSkseSM3c0L81O0ZRlnctsfDHNBAAAA\n",
              "OkGep0URLBb/AAADAAANcpE5rihNfehrnddjgund3h+qFdjZaXyujAGOj1MiEfcJCaCoXumD5iwB\n",
              "FA0AAAAqAZ7GdEFfAAADAAAU9AfnveoZIrIGOmed45YSqXqA7Mc/owkKY09okUPSAAAAKwGeyGpB\n",
              "XwAAAwAAAwBHJ7VvJhPOsxHa7JlcueuKtXgc968aa2R98J9sl8wAAAEyQZrMSahBbJlMCC///tqm\n",
              "WAAACQ9D/NUv8PiAK2UEf8DDSZSBRYtvPz0BA9wfOYeWNr/DWg3a3qa+zeTAI94gel7wgoEECgFH\n",
              "aMoAACtaj8uygSgunbgbo3uJfSlRSCLigcHoV+XR1ob9lfb7C9MHMlPMY3EJLy2iWLYbJelPh8vF\n",
              "iF59E62ynKKpakNkP0wTMs0UmTsYNYYkX8qlgWJjJYIL+kjYNqq1eYZWs4euzN9tUK/VY4lXrgiB\n",
              "CYW68WiFAJwSnYogd34k8A/63fr5Zv72xPD6JRngvb4DjIW1ZIGIFRbdeZMIbraj11YJYhXYD/XZ\n",
              "UCyCIpbTKXPQ1D65SqyYGhe9vSLW4uaO2F38QMGrdlKswd9SXWmoxDVFzC8emu3lOAWWXbYehrrs\n",
              "v3HSBdqnAAAAOkGe6kUVLBX/AAADAAYa2ipiYTzpPyO8OlbwYAEQxsU2E4bByVwA+Cw4RfE1TfBA\n",
              "MLa2wQgjs2cKMrAAAAA8AZ8LakFfAAADAAYa2ipiYTzpPyO8OlbwYAEQxsU2EwNZNjgIgAdm5wK2\n",
              "jECIumYPOZce2sYfsiluRmqAAAAA50GbEEmoQWyZTAgv//7aplgAAAMAIjub//EAHxABkRlvJOic\n",
              "akVYmGd0V8/SkD+8InhAc2me5Xz7Cj9KggPmzuryNgJACpKorJPDh2Q+e6vDXo5nXxfL0I0MsVeL\n",
              "96MAxvE8PK/5EZ/0gZEXrYeb/XViBlMNNP7TAGb2i1lP0P/EhTz0ZpCKvz/E6nCJzeFmnCn0p4gJ\n",
              "xA9uZCsXwVtm2GljbDs0zfEYL3AHPi5HUNg70Sr41J3mhrZc0Wd4oGcvGYWm9IQJUHMA7YYQKxo4\n",
              "i22Kzzzb8yna5h4R9+b3OWbhX6DbAAB3QQAAAFBBny5FFSwW/wAAAwAADsr1HmPjPadOEe0gZ27A\n",
              "hicKZmcIG6y5MMbmtL2mj15ocXmtVxgjQEiPQAmtLldHq445fi2CsBDyT+pWlFgivlSqgQAAADcB\n",
              "n010QV8AAAMAAAMAYa0fnveoZFldPLy0eLRZXXGz2bvHEw82X0AAOzc4FbRiBEXTLvwA06rLAAAA\n",
              "LAGfT2pBXwAAAwAAFzMxLgruosZqZGGbJIeK0oLkUBYdFDKslaLE2FcgADwgAAAAjkGbUUmoQWyZ\n",
              "TAgv//7aplgAAAgKLtLdcfSkAIUKCP+f8BByWuaRTq+FQEPGT53asI7YJ7IrSaubPzq2H9OpPV3G\n",
              "jaXWK9d6Nq2atj2yQG/mJdmsp2LD0LZYva3gX7mH715d6KAi4GXadS/L/3VAe6M6shokif+PRX7C\n",
              "wPhWIHAjOzx8PEsQ6qlTi90oAh4AAACWQZtzSeEKUmUwUVLBX/7WpVAAAAdTeBvZnE/8AAdplBv8\n",
              "/h41/jdcxuNzqs1S5dfU/Z4WeBwQgQrgHuEMr7MwLN9msIGmmZQOn48Iy/EbPcD3ZrJyZM9a7pIo\n",
              "JLnRi6cm6+FZ8JQszo+g3rBRJ2gs++/SK/rLOO8HK8XK2TQTCo2heRDrJHO/Yep5WpRSsFatth4T\n",
              "2CkhAAAARQGfkmpBXwAAAwAE9MxLgruosYUMnIcUWjxrbNwI+OQAcI7P/f4ESYUh/44Q7njrOtoY\n",
              "fBd4+qWDf+Ye+BTHTbp9PNBLaAAABBJtb292AAAAbG12aGQAAAAAAAAAAAAAAAAAAAPoAACcQAAB\n",
              "AAABAAAAAAAAAAAAAAAAAQAAAAAAAAAAAAAAAAAAAAEAAAAAAAAAAAAAAAAAAEAAAAAAAAAAAAAA\n",
              "AAAAAAAAAAAAAAAAAAAAAAAAAAACAAADPHRyYWsAAABcdGtoZAAAAAMAAAAAAAAAAAAAAAEAAAAA\n",
              "AACcQAAAAAAAAAAAAAAAAAAAAAAAAQAAAAAAAAAAAAAAAAAAAAEAAAAAAAAAAAAAAAAAAEAAAAAC\n",
              "gAAAAeAAAAAAACRlZHRzAAAAHGVsc3QAAAAAAAAAAQAAnEAAAQAAAAEAAAAAArRtZGlhAAAAIG1k\n",
              "aGQAAAAAAAAAAAAAAAAAAEAAAAoAAFXEAAAAAAAtaGRscgAAAAAAAAAAdmlkZQAAAAAAAAAAAAAA\n",
              "AFZpZGVvSGFuZGxlcgAAAAJfbWluZgAAABR2bWhkAAAAAQAAAAAAAAAAAAAAJGRpbmYAAAAcZHJl\n",
              "ZgAAAAAAAAABAAAADHVybCAAAAABAAACH3N0YmwAAAC3c3RzZAAAAAAAAAABAAAAp2F2YzEAAAAA\n",
              "AAAAAQAAAAAAAAAAAAAAAAAAAAACgAHgAEgAAABIAAAAAAAAAAEAAAAAAAAAAAAAAAAAAAAAAAAA\n",
              "AAAAAAAAAAAAAAAAAAAY//8AAAA1YXZjQwFkABb/4QAYZ2QAFqzZQKA9oQAAAwACAAADAAIPFi2W\n",
              "AQAGaOvjyyLA/fj4AAAAABx1dWlka2hA8l8kT8W6OaUbzwMj8wAAAAAAAAAYc3R0cwAAAAAAAAAB\n",
              "AAAAFAAAgAAAAAAUc3RzcwAAAAAAAAABAAAAAQAAAKBjdHRzAAAAAAAAABIAAAACAAEAAAAAAAEA\n",
              "AoAAAAAAAQABAAAAAAABAAAAAAAAAAEAAIAAAAAAAQACgAAAAAABAAEAAAAAAAEAAAAAAAAAAQAA\n",
              "gAAAAAABAAIAAAAAAAIAAIAAAAAAAQACgAAAAAABAAEAAAAAAAEAAAAAAAAAAQAAgAAAAAABAAEA\n",
              "AAAAAAEAAYAAAAAAAQAAgAAAAAAcc3RzYwAAAAAAAAABAAAAAQAAABQAAAABAAAAZHN0c3oAAAAA\n",
              "AAAAAAAAABQAAAtmAAAAwQAAAV4AAABLAAAAMAAAAC8AAAE0AAAAPgAAAC4AAAAvAAABNgAAAD4A\n",
              "AABAAAAA6wAAAFQAAAA7AAAAMAAAAJIAAACaAAAASQAAABRzdGNvAAAAAAAAAAEAAAAwAAAAYnVk\n",
              "dGEAAABabWV0YQAAAAAAAAAhaGRscgAAAAAAAAAAbWRpcmFwcGwAAAAAAAAAAAAAAAAtaWxzdAAA\n",
              "ACWpdG9vAAAAHWRhdGEAAAABAAAAAExhdmY1OC43Ni4xMDA=\n",
              "\">\n",
              "  Your browser does not support the video tag.\n",
              "</video>"
            ]
          },
          "metadata": {},
          "execution_count": 29
        }
      ]
    },
    {
      "cell_type": "markdown",
      "source": [
        "Part 2\n",
        "Implementing Q learning algorithm"
      ],
      "metadata": {
        "id": "1P7k65JVHfc2"
      }
    },
    {
      "cell_type": "code",
      "source": [
        "# Choose an action from the espilon greedy policy\n",
        "def ChooseActionFromPolicy(A,epsilon,Q,state):\n",
        "    rnd=np.random.random()\n",
        "    if rnd<epsilon:\n",
        "        action = np.random.choice(A)\n",
        "    else:\n",
        "        action = Q[state,:].argmax()\n",
        "\n",
        "    return action\n",
        "\n",
        "# Update the Q table (see equation above)\n",
        "def UpdateQ(Q,state,action,newstate,reward,alpha,gamma):\n",
        "    firstterm=(1-alpha)*Q[state,action]\n",
        "    secondterm=gamma*Q[newstate,:].max()\n",
        "    thirdterm=alpha*(reward+secondterm)\n",
        "    res=firstterm+thirdterm\n",
        "    Q[state,action]=res"
      ],
      "metadata": {
        "id": "ds1qj2iVG7P8"
      },
      "execution_count": 36,
      "outputs": []
    },
    {
      "cell_type": "code",
      "source": [
        "#Playing one game to update the Q Table\n",
        "# Debug function to do some display\n",
        "def debugfunction(at,s,M,Q1,Q2,epsilon,t,player,listimages):\n",
        "        #code for display\n",
        "        ttl = plt.text(3, 43,\n",
        "                       \"Board                               Qtable-Player 1                     Qtable-Player 2\"+\n",
        "                       \"\\nAction player \"+str(player)+\"=\"+str(at)+\" and State =\"+str(s)+\n",
        "                       \"| Number of games=\"+str(t)+\"| epsilon=\"+\"{:.2f}\".format(epsilon)\n",
        "                       ,horizontalalignment='right', verticalalignment='top', fontsize=\"small\")\n",
        "        #vmin=0, vmax=1,\n",
        "        im1 = axarr[0].matshow(M, animated=True,vmax=2,cmap='gray')\n",
        "        im2 = axarr[1].matshow(Q1, animated=True,cmap='gray')\n",
        "        im3 = axarr[2].matshow(Q2, animated=True,cmap='gray')\n",
        "        listimages.append([im1,im2,im3,ttl])\n",
        "\n",
        "# Let's play one game\n",
        "def OneGameLearning(A,Q1,Q2,M,epsilon1,espilon2,alpha,gamma,listimages,t,debug):\n",
        "    if debug==True:\n",
        "        debugfunction(-1,0,M,Q1,Q2,-1,t,-1,listimages)\n",
        "\n",
        "\n",
        "    s=0 #initial state\n",
        "    done = False\n",
        "    while done != True : # Move until a player lose\n",
        "\n",
        "        # Player one plays first\n",
        "        at1= ChooseActionFromPolicy(A,epsilon1,Q1,s) #choose an action\n",
        "        st1,rt1,end1=step(at1,s,M,1,boardstate) # Move according to the action\n",
        "        #Update Q1\n",
        "        UpdateQ(Q1,s,at1,st1,rt1,alpha,gamma)\n",
        "\n",
        "        #code for debug and display\n",
        "        if debug==True:\n",
        "            debugfunction(at1,st1,M,Q1,Q2,epsilon1,t,1,listimages)\n",
        "         #end code for debug and display\n",
        "\n",
        "        #player 1 has won\n",
        "        if end1==True and rt1>0:\n",
        "            return 1\n",
        "\n",
        "        #Bad move from player 1 so player 2 has won\n",
        "        if end1==True and rt1==-1:\n",
        "            return 2\n",
        "\n",
        "\n",
        "\n",
        "        # Player two plays\n",
        "        at2= ChooseActionFromPolicy(A,epsilon2,Q2,st1) #choose an action\n",
        "        st2,rt2,end2=step(at2,st1,M,2,boardstate) # Move according to the action\n",
        "        #Update Q2\n",
        "        UpdateQ(Q2,st1,at2,st2,rt2,alpha,gamma)\n",
        "\n",
        "        if debug==True and rt2==1:\n",
        "            debugfunction(at2,st2,M,Q1,Q2,epsilon2,t,2,listimages)\n",
        "\n",
        "        #player 2 has won\n",
        "        if end2==True and rt2>0:\n",
        "            return 2\n",
        "\n",
        "        #Bad move from player 2 so player 1 has won\n",
        "        if end2==True and rt2==-1:\n",
        "            return 1\n",
        "\n",
        "\n",
        "        s=st2\n",
        "\n",
        "    return 0"
      ],
      "metadata": {
        "id": "3QrGRLgTNEE5"
      },
      "execution_count": 37,
      "outputs": []
    },
    {
      "cell_type": "code",
      "source": [
        "# Player 2 is random player (epsilon=1). He always does exploration.\n",
        "# He never takes advantage of the knowledge inside the Qtable.\n",
        "\n",
        "#Training with 5 games\n",
        "f, axarr = plt.subplots(1,3)\n",
        "listimages=[] # Just for the animation\n",
        "\n",
        "\n",
        "axarr[0].grid()\n",
        "axarr[1].grid()\n",
        "axarr[2].grid()\n",
        "\n",
        "\n",
        "#axarr[1].set_yticks(np.arange(0, nbrows*nbcolumns, 1),minor=True)\n",
        "#axarr[1].set_yticklabels(np.arange(0, nbrows*nbcolumns, 1),minor=True)\n",
        "\n",
        "#axarr[2].set_yticks(np.arange(0, nbrows*nbcolumns, 1),minor=True)\n",
        "#axarr[2].set_yticklabels(np.arange(0, nbrows*nbcolumns, 1),minor=True)\n",
        "\n",
        "\n",
        "####################\n",
        "# Q learning runnning\n",
        "####################\n",
        "\n",
        "\n",
        "#Let's initialize the Q Table\n",
        "Q1=np.zeros((S.shape[0],A.shape[0]))\n",
        "Q2=np.zeros((S.shape[0],A.shape[0]))\n",
        "\n",
        "#Let's initialize the matrix\n",
        "boardstate=CreateBoardStates(nbrows,nbcolumns)\n",
        "M=np.zeros((nbrows,nbcolumns))\n",
        "print(M.shape)\n",
        "\n",
        "print(\"S=\",S)\n",
        "print(\"S.shape=\",S.shape)\n",
        "print(\"A=\",A)\n",
        "print(\"A.shape=\",A.shape)\n",
        "print(\"Q1.shape=\",Q1.shape)\n",
        "print(\"Q2.shape=\",Q2.shape)\n",
        "print(\"M=\",M)\n",
        "print(\"M.shape=\",M.shape)\n",
        "\n",
        "\n",
        "#Let's define some hyper parameters\n",
        "alpha=0.01 #learing rate\n",
        "gamma=0.9 #Discount factor\n",
        "epsilon1=0.3 #probability of exploration we want to get at the end\n",
        "epsilon2=1 #probability of exploration we want to get at the end\n",
        "nbgames=5 # The number of trials, number of games\n",
        "\n",
        "\n",
        "statsnbplayeronewins=0\n",
        "for t in range(nbgames):\n",
        "    # run one game\n",
        "    #Let's initialize the board to 0\n",
        "    M=np.zeros((nbrows,nbcolumns))\n",
        "    playeronewins=OneGameLearning(A,Q1,Q2,M,epsilon1,epsilon2,alpha,gamma,listimages,t,True)\n",
        "    if playeronewins==1:\n",
        "        statsnbplayeronewins+=1\n",
        "\n",
        "    print(\"t=\",t, \"epsilon1=\",epsilon1,\" player \",playeronewins,\" wins\")\n",
        "statsnbplayeronewins/=float(nbgames)\n",
        "statsnbplayeronewins*=100\n",
        "print(\"Fin du QLearning !!!\")\n",
        "print(\"Percentage of winning games for player one : \"+str(statsnbplayeronewins))\n",
        "#f.colorbar(listimages[4][0], ax=axarr[2])"
      ],
      "metadata": {
        "colab": {
          "base_uri": "https://localhost:8080/",
          "height": 853
        },
        "id": "-bU3-S9tN141",
        "outputId": "83ff48be-2485-4d36-8158-2e30758e2117"
      },
      "execution_count": 52,
      "outputs": [
        {
          "output_type": "stream",
          "name": "stdout",
          "text": [
            "(6, 7)\n",
            "S= [ 0  1  2  3  4  5  6  7  8  9 10 11 12 13 14 15 16 17 18 19 20 21 22 23\n",
            " 24 25 26 27 28 29 30 31 32 33 34 35 36 37 38 39 40 41]\n",
            "S.shape= (42,)\n",
            "A= [0 1 2 3 4 5 6]\n",
            "A.shape= (7,)\n",
            "Q1.shape= (42, 7)\n",
            "Q2.shape= (42, 7)\n",
            "M= [[0. 0. 0. 0. 0. 0. 0.]\n",
            " [0. 0. 0. 0. 0. 0. 0.]\n",
            " [0. 0. 0. 0. 0. 0. 0.]\n",
            " [0. 0. 0. 0. 0. 0. 0.]\n",
            " [0. 0. 0. 0. 0. 0. 0.]\n",
            " [0. 0. 0. 0. 0. 0. 0.]]\n",
            "M.shape= (6, 7)\n",
            "t= 0 epsilon1= 0.3  player  2  wins\n",
            "t= 1 epsilon1= 0.3  player  2  wins\n",
            "t= 2 epsilon1= 0.3  player  2  wins\n",
            "t= 3 epsilon1= 0.3  player  1  wins\n",
            "t= 4 epsilon1= 0.3  player  1  wins\n",
            "Fin du QLearning !!!\n",
            "Percentage of winning games for player one : 40.0\n"
          ]
        },
        {
          "output_type": "display_data",
          "data": {
            "text/plain": [
              "<Figure size 640x480 with 3 Axes>"
            ],
            "image/png": "[encoded data removed]"
          },
          "metadata": {}
        }
      ]
    },
    {
      "cell_type": "code",
      "source": [
        "# Running for 10000 games\n",
        "f, axarr = plt.subplots(1,3)\n",
        "listimages=[] # Just for the animation\n",
        "\n",
        "\n",
        "axarr[0].grid()\n",
        "axarr[1].grid()\n",
        "axarr[2].grid()\n",
        "\n",
        "\n",
        "\n",
        "####################\n",
        "# Q learning runnning\n",
        "####################\n",
        "\n",
        "\n",
        "#Let's initialize the Q Table\n",
        "Q1=np.zeros((S.shape[0],A.shape[0]))\n",
        "Q2=np.zeros((S.shape[0],A.shape[0]))\n",
        "\n",
        "#Let's initialize the matrix\n",
        "boardstate=CreateBoardStates(nbrows,nbcolumns)\n",
        "M=np.zeros((nbrows,nbcolumns))\n",
        "print(M.shape)\n",
        "\n",
        "print(\"S=\",S)\n",
        "print(\"S.shape=\",S.shape)\n",
        "print(\"A=\",A)\n",
        "print(\"A.shape=\",A.shape)\n",
        "print(\"Q1.shape=\",Q1.shape)\n",
        "print(\"Q2.shape=\",Q2.shape)\n",
        "print(\"M=\",M)\n",
        "print(\"M.shape=\",M.shape)\n",
        "\n",
        "\n",
        "#Let's define some hyper parameters\n",
        "alpha=0.01 #learing rate\n",
        "gamma=0.9 #Discount factor\n",
        "epsilon1=0.3 #probability of exploration we want to get at the end\n",
        "epsilon2=1 #probability of exploration we want to get at the end\n",
        "nbgames=10000 # The number of trials, number of games\n",
        "\n",
        "\n",
        "statsnbplayeronewins=0\n",
        "for t in range(nbgames):\n",
        "    # run one game\n",
        "    #Let's initialize the board to 0\n",
        "    M=np.zeros((nbrows,nbcolumns))\n",
        "    playeronewins=OneGameLearning(A,Q1,Q2,M,epsilon1,epsilon2,alpha,gamma,listimages,t,False)\n",
        "    if playeronewins==1:\n",
        "        statsnbplayeronewins+=1\n",
        "\n",
        "    #print(\"t=\",t, \"epsilon1=\",epsilon1,\" player \",playeronewins,\" wins\")\n",
        "statsnbplayeronewins/=float(nbgames)\n",
        "statsnbplayeronewins*=100\n",
        "print(\"Fin du QLearning !!!\")\n",
        "print(\"Percentage of winning games for player one : \"+str(statsnbplayeronewins))\n",
        "\n",
        "\n",
        "ttl = plt.text(3, 43,\n",
        "                       \"Board                               Qtable-Player 1                     Qtable-Player 2\"+\n",
        "                       \"\\nAction player \"+str(-1)+\"=\"+str(-1)+\" and State =\"+str(-1)+\n",
        "                       \"| Number of games=\"+str(nbgames)+\"| epsilon=\"+\"{:.2f}\".format(-1)\n",
        "                       ,horizontalalignment='right', verticalalignment='top', fontsize=\"small\")\n",
        "        #vmin=0, vmax=1,\n",
        "im1 = axarr[0].matshow(M, animated=True,cmap='gray')\n",
        "im2 = axarr[1].matshow(Q1, animated=True,cmap='gray')\n",
        "im3 = axarr[2].matshow(Q2, animated=True,cmap='gray')\n",
        "listimages.append([im1,im2,im3,ttl])\n",
        "f.colorbar(im3,ax=axarr[2])"
      ],
      "metadata": {
        "colab": {
          "base_uri": "https://localhost:8080/",
          "height": 783
        },
        "id": "SsOqKILIPG2E",
        "outputId": "cb5845e9-f5a6-4756-def7-b0152cac6465"
      },
      "execution_count": 53,
      "outputs": [
        {
          "output_type": "stream",
          "name": "stdout",
          "text": [
            "(6, 7)\n",
            "S= [ 0  1  2  3  4  5  6  7  8  9 10 11 12 13 14 15 16 17 18 19 20 21 22 23\n",
            " 24 25 26 27 28 29 30 31 32 33 34 35 36 37 38 39 40 41]\n",
            "S.shape= (42,)\n",
            "A= [0 1 2 3 4 5 6]\n",
            "A.shape= (7,)\n",
            "Q1.shape= (42, 7)\n",
            "Q2.shape= (42, 7)\n",
            "M= [[0. 0. 0. 0. 0. 0. 0.]\n",
            " [0. 0. 0. 0. 0. 0. 0.]\n",
            " [0. 0. 0. 0. 0. 0. 0.]\n",
            " [0. 0. 0. 0. 0. 0. 0.]\n",
            " [0. 0. 0. 0. 0. 0. 0.]\n",
            " [0. 0. 0. 0. 0. 0. 0.]]\n",
            "M.shape= (6, 7)\n",
            "Fin du QLearning !!!\n",
            "Percentage of winning games for player one : 63.7\n"
          ]
        },
        {
          "output_type": "execute_result",
          "data": {
            "text/plain": [
              "<matplotlib.colorbar.Colorbar at 0x7f40d0ef0370>"
            ]
          },
          "metadata": {},
          "execution_count": 53
        },
        {
          "output_type": "display_data",
          "data": {
            "text/plain": [
              "<Figure size 640x480 with 4 Axes>"
            ],
            "image/png": "[encoded data removed]"
          },
          "metadata": {}
        }
      ]
    },
    {
      "cell_type": "code",
      "source": [
        "# Game without learning. Player one does exploitation with playyer 2 who plays random\n",
        "f, axarr = plt.subplots(1,3)\n",
        "listimages=[] # Just for the animation\n",
        "\n",
        "\n",
        "axarr[0].grid()\n",
        "axarr[1].grid()\n",
        "axarr[2].grid()\n",
        "\n",
        "\n",
        "\n",
        "####################\n",
        "# Q learning runnning\n",
        "####################\n",
        "\n",
        "print(\"S=\",S)\n",
        "print(\"S.shape=\",S.shape)\n",
        "print(\"A=\",A)\n",
        "print(\"A.shape=\",A.shape)\n",
        "print(\"Q1.shape=\",Q1.shape)\n",
        "print(\"Q2.shape=\",Q2.shape)\n",
        "print(\"M=\",M)\n",
        "print(\"M.shape=\",M.shape)\n",
        "\n",
        "\n",
        "#Let's define some hyper parameters\n",
        "alpha=0.01 #learing rate\n",
        "gamma=0.9 #Discount factor\n",
        "epsilon1=0 #probability of exploration we want to get at the end\n",
        "epsilon2=1 #probability of exploration we want to get at the end\n",
        "nbgames=1 # The number of trials, number of games\n",
        "\n",
        "\n",
        "statsnbplayeronewins=0\n",
        "for t in range(nbgames):\n",
        "    # run one game\n",
        "    #Let's initialize the board to 0\n",
        "    M=np.zeros((nbrows,nbcolumns))\n",
        "    playeronewins=OneGameLearning(A,Q1.copy(),Q2.copy(),M,epsilon1,epsilon2,alpha,gamma,listimages,t,True)\n",
        "    if playeronewins==1:\n",
        "        statsnbplayeronewins+=1\n",
        "\n",
        "    #print(\"t=\",t, \"epsilon1=\",epsilon1,\" player \",playeronewins,\" wins\")\n",
        "statsnbplayeronewins/=float(nbgames)\n",
        "statsnbplayeronewins*=100\n",
        "print(\"Percentage of winning games for player one : \"+str(statsnbplayeronewins))\n",
        "\n",
        "\n",
        "ttl = plt.text(3, 43,\n",
        "                       \"Board                               Qtable-Player 1                     Qtable-Player 2\"+\n",
        "                       \"\\nAction player \"+str(-1)+\"=\"+str(-1)+\" and State =\"+str(-1)+\n",
        "                       \"| Number of games=\"+str(nbgames)+\"| epsilon=\"+\"{:.2f}\".format(-1)\n",
        "                       ,horizontalalignment='right', verticalalignment='top', fontsize=\"small\")\n",
        "        #vmin=0, vmax=1,\n",
        "im1 = axarr[0].matshow(M, animated=True,cmap='gray')\n",
        "im2 = axarr[1].matshow(Q1.copy(), animated=True,cmap='gray')\n",
        "im3 = axarr[2].matshow(Q2.copy(), animated=True,cmap='gray')\n",
        "listimages.append([im1,im2,im3,ttl])\n",
        "f.colorbar(im3,ax=axarr[2])"
      ],
      "metadata": {
        "colab": {
          "base_uri": "https://localhost:8080/",
          "height": 749
        },
        "id": "iSNQMpdrQPNT",
        "outputId": "ba9f7cc3-9690-4319-8183-9bb47cf19d15"
      },
      "execution_count": 54,
      "outputs": [
        {
          "output_type": "stream",
          "name": "stdout",
          "text": [
            "S= [ 0  1  2  3  4  5  6  7  8  9 10 11 12 13 14 15 16 17 18 19 20 21 22 23\n",
            " 24 25 26 27 28 29 30 31 32 33 34 35 36 37 38 39 40 41]\n",
            "S.shape= (42,)\n",
            "A= [0 1 2 3 4 5 6]\n",
            "A.shape= (7,)\n",
            "Q1.shape= (42, 7)\n",
            "Q2.shape= (42, 7)\n",
            "M= [[0. 0. 0. 0. 0. 0. 0.]\n",
            " [0. 0. 0. 0. 0. 0. 0.]\n",
            " [0. 0. 0. 0. 0. 0. 0.]\n",
            " [0. 0. 0. 0. 0. 0. 0.]\n",
            " [2. 2. 0. 0. 0. 0. 0.]\n",
            " [1. 1. 1. 1. 0. 0. 2.]]\n",
            "M.shape= (6, 7)\n",
            "Percentage of winning games for player one : 100.0\n"
          ]
        },
        {
          "output_type": "execute_result",
          "data": {
            "text/plain": [
              "<matplotlib.colorbar.Colorbar at 0x7f40d05d3e80>"
            ]
          },
          "metadata": {},
          "execution_count": 54
        },
        {
          "output_type": "display_data",
          "data": {
            "text/plain": [
              "<Figure size 640x480 with 4 Axes>"
            ],
            "image/png": "[encoded data removed]"
          },
          "metadata": {}
        }
      ]
    },
    {
      "cell_type": "code",
      "source": [
        "# Strength of player 1 over 10000 games\n",
        "listimages=[] # Just for the animation\n",
        "\n",
        "\n",
        "\n",
        "####################\n",
        "# Q learning runnning\n",
        "####################\n",
        "\n",
        "print(\"S=\",S)\n",
        "print(\"S.shape=\",S.shape)\n",
        "print(\"A=\",A)\n",
        "print(\"A.shape=\",A.shape)\n",
        "print(\"Q1.shape=\",Q1.shape)\n",
        "print(\"Q2.shape=\",Q2.shape)\n",
        "print(\"M=\",M)\n",
        "print(\"M.shape=\",M.shape)\n",
        "\n",
        "\n",
        "#Let's define some hyper parameters\n",
        "alpha=0.01 #learing rate\n",
        "gamma=0.9 #Discount factor\n",
        "epsilon1=0 #probability of exploration we want to get at the end\n",
        "epsilon2=1 #probability of exploration we want to get at the end\n",
        "nbgames=10000 # The number of trials, number of games\n",
        "\n",
        "\n",
        "statsnbplayeronewins=0\n",
        "for t in range(nbgames):\n",
        "    # run one game\n",
        "    #Let's initialize the board to 0\n",
        "    M=np.zeros((nbrows,nbcolumns))\n",
        "    playeronewins=OneGameLearning(A,Q1.copy(),Q2.copy(),M,epsilon1,epsilon2,alpha,gamma,listimages,t,False)\n",
        "    if playeronewins==1:\n",
        "        statsnbplayeronewins+=1\n",
        "\n",
        "    #print(\"t=\",t, \"epsilon1=\",epsilon1,\" player \",playeronewins,\" wins\")\n",
        "statsnbplayeronewins/=float(nbgames)\n",
        "statsnbplayeronewins*=100\n",
        "print(\"Percentage of winning games for player one : \"+str(statsnbplayeronewins))"
      ],
      "metadata": {
        "colab": {
          "base_uri": "https://localhost:8080/"
        },
        "id": "4fKjWDiaQxLv",
        "outputId": "9fb26c65-d616-414b-b5c2-f221c63db50d"
      },
      "execution_count": 56,
      "outputs": [
        {
          "output_type": "stream",
          "name": "stdout",
          "text": [
            "S= [ 0  1  2  3  4  5  6  7  8  9 10 11 12 13 14 15 16 17 18 19 20 21 22 23\n",
            " 24 25 26 27 28 29 30 31 32 33 34 35 36 37 38 39 40 41]\n",
            "S.shape= (42,)\n",
            "A= [0 1 2 3 4 5 6]\n",
            "A.shape= (7,)\n",
            "Q1.shape= (42, 7)\n",
            "Q2.shape= (42, 7)\n",
            "M= [[0. 0. 0. 0. 0. 0. 0.]\n",
            " [0. 0. 0. 0. 0. 0. 0.]\n",
            " [0. 0. 0. 0. 0. 0. 1.]\n",
            " [0. 2. 0. 0. 0. 0. 1.]\n",
            " [1. 2. 0. 0. 2. 0. 1.]\n",
            " [1. 1. 1. 2. 2. 2. 2.]]\n",
            "M.shape= (6, 7)\n",
            "Percentage of winning games for player one : 70.35\n"
          ]
        }
      ]
    },
    {
      "cell_type": "code",
      "source": [],
      "metadata": {
        "id": "KEEuYir7SXPV"
      },
      "execution_count": null,
      "outputs": []
    }
  ]
}